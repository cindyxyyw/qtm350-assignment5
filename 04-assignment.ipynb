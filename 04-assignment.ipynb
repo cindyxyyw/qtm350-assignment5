{
 "cells": [
  {
   "cell_type": "markdown",
   "metadata": {},
   "source": [
    "# QTM 350 - Data Science Computing\n",
    "\n",
    "## Assignment 04: Advanced Git\n",
    "### Due 19 February 2025\n",
    "\n",
    "In this assignment, you will explore Git in more depth, focusing on commands we have not covered in class. You should research how to solve each task using specific Git commands. Feel free to use any tools you prefer to complete the assignment. Explain each command in simple terms. Of course, you are welcome to test them as well! If you have any questions, please let me know.\n",
    "\n",
    "### Questions\n",
    "\n",
    "1. What command would you use to display all the commits that have not yet been pushed to the remote repository?\n",
    "   \n",
    "2. Explain the purpose of the `git tag` command.\n",
    "   \n",
    "3. How do you remove a file from the repository history?\n",
    "   \n",
    "4. How do you temporarily save your changes without committing them?\n",
    "   \n",
    "5. How do you amend the most recent commit message?\n",
    "   \n",
    "6. How can you split a commit into multiple commits?\n",
    "   \n",
    "7. How do you display the changes between two branches?\n",
    "   \n",
    "8. What command would you use to see which remote repository a local repository is connected to?\n",
    "   \n",
    "9.  Explain the difference between `git merge` and `git rebase`.\n",
    "    \n",
    "10. How can you search for a specific commit message?"
   ]
  },
  {
   "cell_type": "markdown",
   "metadata": {},
   "source": [
    "1. What command would you use to display all the commits that have not yet been pushed to the remote repository?\n",
    "\n",
    "git log --branches --not --remotes"
   ]
  },
  {
   "cell_type": "markdown",
   "metadata": {},
   "source": [
    "2. Explain the purpose of the `git tag` command.\n",
    "\n",
    "The git tag command is used to create a reference to a specific commit, often to mark important versions (e.g., v1.0, v2.0). Tags help in version control and make it easier to identify key points in the project’s history."
   ]
  },
  {
   "cell_type": "markdown",
   "metadata": {},
   "source": [
    "3. How do you remove a file from the repository history?\n",
    "\n",
    "git filter-branch --force --index-filter \"git rm --cached --ignore-unmatch <file-path>\" --prune-empty --tag-name-filter cat -- --all\n"
   ]
  },
  {
   "cell_type": "markdown",
   "metadata": {},
   "source": [
    "4. How do you temporarily save your changes without committing them?\n",
    "\n",
    "git stash\n",
    "\n",
    "This will save the changes and leave with a clean working directory."
   ]
  },
  {
   "cell_type": "markdown",
   "metadata": {},
   "source": [
    "5. How do you amend the most recent commit message?\n",
    "\n",
    "git commit --amend\n",
    "\n",
    "git commit --amend -m \"New commit message\"\n",
    "\n",
    "git push --force\n",
    "\n",
    "This will open the default text editor with the commit message of the most recent commit.\n"
   ]
  },
  {
   "cell_type": "markdown",
   "metadata": {},
   "source": [
    "6. How can you split a commit into multiple commits?\n",
    "\n",
    "git rebase -i HEAD~n （n=number of commits)\n",
    "\n",
    "git reset HEAD^\n",
    "\n",
    "git add -p\n",
    "\n",
    "git commit -m \"First part of the split commit\"\n",
    "\n",
    "git add -p\n",
    "git commit -m \"Second part of the split commit\"\n",
    "\n",
    "git rebase --continue\n",
    "\n",
    "git push --force\n"
   ]
  },
  {
   "cell_type": "markdown",
   "metadata": {},
   "source": [
    "7. How do you display the changes between two branches?\n",
    "\n",
    "changes between two branches:\n",
    "\n",
    "git diff branch1..branch2\n",
    "\n",
    "changes between a specific commit in one branch and another branch:\n",
    "\n",
    "git diff commit1..branch2\n",
    "\n",
    "changes in a specific file between two branches:\n",
    "\n",
    "git diff branch1..branch2 -- path/to/file"
   ]
  },
  {
   "cell_type": "markdown",
   "metadata": {},
   "source": [
    "8. What command would you use to see which remote repository a local repository is connected to?\n",
    "\n",
    "git remote -v"
   ]
  },
  {
   "cell_type": "markdown",
   "metadata": {},
   "source": [
    "9.  Explain the difference between `git merge` and `git rebase`.\n",
    "\n",
    "git merge:\n",
    "\n",
    "Combines the changes from one branch into another. It creates a new commit called a \"merge commit\" that has two parent commits, representing the two branches being merged. Preserves the history of both branches, showing the exact sequence of commits and the point at which the branches diverged and merged. Useful when want to maintain a complete history of all commits, including the branching and merging process.\n",
    "\n",
    "git rebase:\n",
    "\n",
    "Reapplies commits from one branch onto another base commit. It moves or \"rebases\" the commits from the current branch onto the tip of another branch, effectively rewriting the commit history. Creates a linear history by eliminating the branching structure, making the commit history cleaner and easier to follow. Useful when you want to incorporate changes from another branch without creating a merge commit, often used to keep a feature branch up to date with the main branch.\n",
    "\n",
    "\n"
   ]
  },
  {
   "cell_type": "markdown",
   "metadata": {},
   "source": [
    "10. How can you search for a specific commit message?\n",
    "\n",
    "git log --grep=\"search term\"\n"
   ]
  }
 ],
 "metadata": {
  "language_info": {
   "name": "python"
  }
 },
 "nbformat": 4,
 "nbformat_minor": 2
}
